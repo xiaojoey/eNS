{
 "cells": [
  {
   "cell_type": "code",
   "execution_count": null,
   "id": "9b521be7-3fd6-41c4-a683-c39c41363c84",
   "metadata": {},
   "outputs": [],
   "source": [
    "from data_loader import *\n",
    "from model import *\n",
    "from plot import *\n",
    "from datetime import datetime\n",
    "import os"
   ]
  },
  {
   "cell_type": "code",
   "execution_count": null,
   "id": "7df8002e-cd7e-4dc6-84cd-1d9b597e3486",
   "metadata": {},
   "outputs": [],
   "source": [
    "path_conv =  '../models/20210908-160537_conv_gender/fold_6_final_8_val.csv'\n",
    "path_bigru = '../models/20210908-201527_bigru_gender_final/fold_6_final_8_val.csv'\n",
    "path_lstm = '../models/20210908-225146_lstm_gender_final/fold_6_final_8_val.csv'\n",
    "path_dense = '../models/20210908-194758_dense_gender_final/fold_6_final_8_val.csv'\n",
    "path_gru = '../models/20210908-214419_gru_gender_final/fold_6_final_8_val.csv'\n",
    "path_gddp = 'gddp2.test.result.csv'"
   ]
  },
  {
   "cell_type": "code",
   "execution_count": null,
   "id": "1609b9ca-fef5-44ec-a4da-48b1299629ed",
   "metadata": {},
   "outputs": [],
   "source": [
    "conv = get_pr(path_conv)\n",
    "gru = get_pr(path_gru)\n",
    "lstm = get_pr(path_lstm)\n",
    "bigru = get_pr(path_bigru)\n",
    "dense = get_pr(path_dense)\n",
    "gddp = get_pr(path_gddp)"
   ]
  },
  {
   "cell_type": "code",
   "execution_count": null,
   "id": "44eb6bd7-2163-4fbf-81cb-7eb9b44aa022",
   "metadata": {},
   "outputs": [],
   "source": [
    "file_name = 'testing.pdf'\n",
    "title = 'Performance on independent test set'"
   ]
  },
  {
   "cell_type": "code",
   "execution_count": null,
   "id": "b7356ae8-5ef9-422f-a106-077ebf89d63a",
   "metadata": {},
   "outputs": [],
   "source": [
    "import seaborn as sns\n",
    "sns.set(font='Franklin Gothic Book',\n",
    "        rc={\n",
    " 'axes.axisbelow': False,\n",
    " 'axes.edgecolor': 'lightgrey',\n",
    " 'axes.facecolor': 'None',\n",
    " 'axes.grid': False,\n",
    " 'axes.labelcolor': 'black',\n",
    " 'axes.spines.right': False,\n",
    " 'axes.spines.top': False,\n",
    " 'figure.facecolor': 'white',\n",
    " 'lines.solid_capstyle': 'round',\n",
    " 'patch.edgecolor': 'w',\n",
    " 'patch.force_edgecolor': True,\n",
    " 'text.color': 'black',\n",
    " 'xtick.bottom': False,\n",
    " 'xtick.color': 'dimgrey',\n",
    " 'xtick.direction': 'out',\n",
    " 'xtick.top': False,\n",
    " 'ytick.color': 'dimgrey',\n",
    " 'ytick.direction': 'out',\n",
    " 'ytick.left': False,\n",
    " 'ytick.right': False})\n",
    "sns.set_context(\"notebook\", rc={\"font.size\":16,\n",
    "                                \"axes.titlesize\":20,\n",
    "                                \"axes.labelsize\":18})"
   ]
  },
  {
   "cell_type": "code",
   "execution_count": null,
   "id": "b29bc11c-9ebd-47cc-8cae-131061c9a456",
   "metadata": {},
   "outputs": [],
   "source": [
    "plt.rc('legend', fontsize=16)\n",
    "plt.rc('xtick', labelsize=13)\n",
    "plt.rc('ytick', labelsize=13)    "
   ]
  },
  {
   "cell_type": "code",
   "execution_count": null,
   "id": "ae17d5fe-3400-411f-b9c4-ddc3ee6838cf",
   "metadata": {
    "tags": []
   },
   "outputs": [],
   "source": [
    "fig, axs = plt.subplots(figsize=(10,8))\n",
    "\n",
    "plt.plot(conv[1], conv[0], label = 'CNN = {auc}'.format(auc=conv[3].round(3)))\n",
    "plt.plot(bigru[1], bigru[0], label = 'BiGRU = {auc}'.format(auc=bigru[3].round(3)))\n",
    "plt.plot(dense[1], dense[0], label = 'Dense = {auc}'.format(auc=dense[3].round(3)))\n",
    "plt.plot(gru[1], gru[0], label = 'GRU = {auc}'.format(auc=gru[3].round(3)))\n",
    "plt.plot(lstm[1], lstm[0], label = 'LSTM = {auc}'.format(auc=lstm[3].round(3)))\n",
    "plt.plot(gddp[1], gddp[0], label = 'GDDP = {auc}'.format(auc=gddp[3].round(3)))\n",
    "\n",
    "\n",
    "axs.set_xlim(-0.05, 1.05)\n",
    "axs.set_ylim(-0.05, 1.05)\n",
    "plt.title(title, size=22, pad=20)\n",
    "plt.xlabel('Recall', size=18, labelpad=15)\n",
    "plt.ylabel('Precision', size=18, labelpad=15)\n",
    "plt.legend(title=\"PRAUC\")\n",
    "plt.savefig(file_name, bbox_inches='tight')"
   ]
  },
  {
   "cell_type": "code",
   "execution_count": null,
   "id": "51913ce5-313e-4719-a744-d6dc0fb50f1d",
   "metadata": {},
   "outputs": [],
   "source": [
    "import pandas as pd\n",
    "newdf = pd.DataFrame(list(zip(gddp[0], gddp[1])), columns=['precision', 'recall'])"
   ]
  },
  {
   "cell_type": "code",
   "execution_count": null,
   "id": "3bd5daae-e0f5-4cf2-a596-4edeba888fa5",
   "metadata": {},
   "outputs": [],
   "source": [
    "newdf_trimmed = newdf[newdf['recall'] >=.4]"
   ]
  },
  {
   "cell_type": "code",
   "execution_count": null,
   "id": "294ae8a7-d96a-4454-8fce-5e5016551562",
   "metadata": {},
   "outputs": [],
   "source": [
    "newdf_trimmed"
   ]
  },
  {
   "cell_type": "code",
   "execution_count": null,
   "id": "705ed468-c8e5-4736-b2df-488d05c72b17",
   "metadata": {},
   "outputs": [],
   "source": [
    "from sklearn import metrics"
   ]
  },
  {
   "cell_type": "code",
   "execution_count": null,
   "id": "a30dd07d-ab3d-422b-9f5b-820e51939323",
   "metadata": {},
   "outputs": [],
   "source": [
    "metrics.auc(gddp[1], gddp[0])"
   ]
  },
  {
   "cell_type": "markdown",
   "id": "ea14cdca-055f-4a72-b3a0-a1660dc27717",
   "metadata": {},
   "source": [
    "## Making the per epoch plot"
   ]
  },
  {
   "cell_type": "code",
   "execution_count": null,
   "id": "5ab5254d-b995-478d-a758-6b3dada0d51f",
   "metadata": {},
   "outputs": [],
   "source": [
    "from tensorflow.python.summary.summary_iterator import summary_iterator\n",
    "import glob\n",
    "import os"
   ]
  },
  {
   "cell_type": "code",
   "execution_count": null,
   "id": "0e11bd74-2dbd-4ce4-8b6b-276b8d0854e4",
   "metadata": {},
   "outputs": [],
   "source": [
    "path_conv =  '../logs/20210908-160537_conv_gender/'\n",
    "path_bigru = '../logs/20210908-201527_bigru_gender_final/'\n",
    "path_lstm = '../logs/20210908-225146_lstm_gender_final/'\n",
    "path_dense = '../logs/20210908-194758_dense_gender_final/'\n",
    "path_gru = '../logs/20210908-214419_gru_gender_final/'"
   ]
  },
  {
   "cell_type": "code",
   "execution_count": null,
   "id": "af93a1ec-4446-4dfb-b997-34af01a88065",
   "metadata": {},
   "outputs": [],
   "source": [
    "path = '../logs/20210908-160537_conv_gender/'\n",
    "path = path_gru\n",
    "file_name = 'cross_validation_gru.pdf'\n",
    "title = 'GRU 6-fold CV performance'"
   ]
  },
  {
   "cell_type": "code",
   "execution_count": null,
   "id": "461a8b36-89c6-412b-8d47-634a87ffea97",
   "metadata": {},
   "outputs": [],
   "source": [
    "print(glob.glob(path+\"*\"))"
   ]
  },
  {
   "cell_type": "code",
   "execution_count": null,
   "id": "cb91bed4-a0ba-4d27-b346-6305e0fc383d",
   "metadata": {},
   "outputs": [],
   "source": [
    "folds = os.listdir(path)"
   ]
  },
  {
   "cell_type": "code",
   "execution_count": null,
   "id": "7bc1bbba-5acf-47ca-8f58-dc8c10873c84",
   "metadata": {},
   "outputs": [],
   "source": [
    "validation_aucs = []\n",
    "train_aucs = []\n",
    "for fold in folds:\n",
    "    train = path + fold + '/train/'\n",
    "    validation = path + fold + '/validation/'\n",
    "    validation_file = os.listdir(validation)[0]\n",
    "    train_file = os.listdir(train)[0]\n",
    "    print(validation_file)\n",
    "    print(train_file)\n",
    "    fold_validation_aucs = []\n",
    "    fold_train_aucs = []\n",
    "    for e in summary_iterator(validation + validation_file):\n",
    "        for v in e.summary.value:\n",
    "            if v.tag == 'evaluation_auc_vs_iterations':\n",
    "                fold_validation_aucs.append(v.simple_value)\n",
    "    validation_aucs.append(fold_validation_aucs)\n",
    "    for e in summary_iterator(train + train_file):\n",
    "        for v in e.summary.value:\n",
    "            if v.tag == 'epoch_auc':\n",
    "                fold_train_aucs.append(v.simple_value)\n",
    "    train_aucs.append(fold_train_aucs)\n"
   ]
  },
  {
   "cell_type": "code",
   "execution_count": null,
   "id": "f44eb034-688e-4cd7-8855-4fec4d705f27",
   "metadata": {
    "tags": []
   },
   "outputs": [],
   "source": [
    "print(train_aucs)"
   ]
  },
  {
   "cell_type": "code",
   "execution_count": null,
   "id": "5e3ab8b5-82d0-48e8-9280-351aade7a385",
   "metadata": {},
   "outputs": [],
   "source": [
    "x = range(1, 21)"
   ]
  },
  {
   "cell_type": "code",
   "execution_count": null,
   "id": "9f2e7467-83e6-4271-9a8c-d76caae1fa93",
   "metadata": {},
   "outputs": [],
   "source": [
    "fig, axs = plt.subplots(figsize=(10,8))\n",
    "\n",
    "for i in range(6):\n",
    "    y = validation_aucs[i]\n",
    "    y2 = train_aucs[i]\n",
    "    if i == 0:\n",
    "        plt.plot(x, y2, label = 'train', color='blue')\n",
    "        plt.plot(x, y, label = 'validation', color='red')\n",
    "    else:\n",
    "        plt.plot(x, y, color='red')\n",
    "        plt.plot(x, y2, color='blue')\n",
    "\n",
    "axs.set_xlim(0, 20.5)\n",
    "axs.set_ylim(-0.05, 1.05)\n",
    "plt.xticks(range(0,21))\n",
    "plt.title(title, size=22, pad=20)\n",
    "plt.xlabel('Epoch', size=18, labelpad=15)\n",
    "plt.ylabel('Area Under Precision Recall Curve', size=18, labelpad=15)\n",
    "plt.legend()\n",
    "plt.savefig(file_name, bbox_inches='tight')"
   ]
  }
 ],
 "metadata": {
  "kernelspec": {
   "display_name": "Python 3 (ipykernel)",
   "language": "python",
   "name": "python3"
  },
  "language_info": {
   "codemirror_mode": {
    "name": "ipython",
    "version": 3
   },
   "file_extension": ".py",
   "mimetype": "text/x-python",
   "name": "python",
   "nbconvert_exporter": "python",
   "pygments_lexer": "ipython3",
   "version": "3.9.7"
  }
 },
 "nbformat": 4,
 "nbformat_minor": 5
}
